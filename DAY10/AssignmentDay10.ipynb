{
 "cells": [
  {
   "cell_type": "markdown",
   "metadata": {},
   "source": [
    "Hypothesis 1. The average age of employee is 35 with standard deviation as 9.6 who left the company. Administration team believes that if age is less than or equal to 34 will have higher attrition rate than population attrition rate. Assume sample be 25 with mean of the age as 33 and level of sinificance as 0.05.\n",
    "\n",
    "\n",
    "Hypothesis 2:  If Attrition is true, Average YearsAtCompany is 5.4 years. Researchers assumes YearsAtCompany will be much lesser. A sample of N=10 with mean of 4 with deviation 5.9 and level of sinificance as 0.05.\n",
    "\n",
    "\n",
    "\n",
    "Hypothesis 3: Employees who work in Human Resource Department whose monthlyIncome is less than 55000 are likely to have higher attrition rate. Overall population mean is 65000 with standard deviation of 43000. Assume sample of 50 with mean monthlyIncome as 56000 and standard deviation as 31000.\n",
    "\n",
    "\n",
    "Hypothesis 4: Employees whose educational background is in Marketing with mean monthlyIncome as 57000 and std as 40000. Assume sample of 700 with mean monthlyIncome is less than or equal to 51000 with level of significance as 0.05. If null hypothesis rejects, sample belongs to Attrition set.\n",
    "\n",
    "Hypothesis 5: Employees whose educational background is in Marketing with workexperience less than 5 years likely to live the company.\n",
    "\n",
    "Hypothesis 6: Employees whose distance from higher is considered to be in attrition.\n",
    "\n",
    "Hypothesis 7: Employee whose department is in R&D and monthlyIncome is less than 50000 is considered to be leaving the company.\n",
    "\n",
    "Hypothesis 8: Employee whose hike is half the higher hike is likely to leave the company.\n",
    "\n",
    "Hypothesis 9: Employee whose promotion is pending as nearer YearsWithCurrManager will leads to leave the company.\n",
    "\n",
    "Hypothesis 10: Employee with NumCompaniesWorked is greater than twice the mean of NumCompaniesWorked is likely to have higher attrition rate in the sample.\n"
   ]
  }
 ],
 "metadata": {
  "kernelspec": {
   "display_name": "Python 3",
   "language": "python",
   "name": "python3"
  },
  "language_info": {
   "codemirror_mode": {
    "name": "ipython",
    "version": 3
   },
   "file_extension": ".py",
   "mimetype": "text/x-python",
   "name": "python",
   "nbconvert_exporter": "python",
   "pygments_lexer": "ipython3",
   "version": "3.7.4"
  }
 },
 "nbformat": 4,
 "nbformat_minor": 2
}
