{
 "cells": [
  {
   "cell_type": "markdown",
   "metadata": {},
   "source": [
    "# 1. Create a 3x3x3 array with random values "
   ]
  },
  {
   "cell_type": "code",
   "execution_count": 1,
   "metadata": {},
   "outputs": [
    {
     "name": "stdout",
     "output_type": "stream",
     "text": [
      "[[[0.24032598 0.39169011 0.76365719]\n",
      "  [0.56661695 0.2952317  0.23315783]\n",
      "  [0.19123173 0.96634135 0.46991819]]\n",
      "\n",
      " [[0.1832582  0.80109332 0.39585415]\n",
      "  [0.77582521 0.14920149 0.8008504 ]\n",
      "  [0.23998988 0.83068719 0.51834092]]\n",
      "\n",
      " [[0.30979117 0.77225348 0.57106476]\n",
      "  [0.67671305 0.77170689 0.88091594]\n",
      "  [0.5836436  0.46862381 0.42228528]]]\n"
     ]
    }
   ],
   "source": [
    "import numpy as np\n",
    "arr = np.random.random((3,3,3))\n",
    "print(arr)"
   ]
  },
  {
   "cell_type": "markdown",
   "metadata": {},
   "source": [
    "# 2.Create a 5x5 matrix with values 1,2,3,4 just below the diagonal"
   ]
  },
  {
   "cell_type": "code",
   "execution_count": 2,
   "metadata": {},
   "outputs": [
    {
     "name": "stdout",
     "output_type": "stream",
     "text": [
      "[[0 0 0 0 0]\n",
      " [1 0 0 0 0]\n",
      " [0 2 0 0 0]\n",
      " [0 0 3 0 0]\n",
      " [0 0 0 4 0]]\n"
     ]
    }
   ],
   "source": [
    "k = np.diag(1+np.arange(4),k=-1)\n",
    "\n",
    "print(k)"
   ]
  },
  {
   "cell_type": "markdown",
   "metadata": {},
   "source": [
    "# 3.Create a 8x8 matrix and fill it with a checkerboard pattern"
   ]
  },
  {
   "cell_type": "code",
   "execution_count": 3,
   "metadata": {},
   "outputs": [
    {
     "name": "stdout",
     "output_type": "stream",
     "text": [
      "[[0 1 0 1 0 1 0 1]\n",
      " [1 0 1 0 1 0 1 0]\n",
      " [0 1 0 1 0 1 0 1]\n",
      " [1 0 1 0 1 0 1 0]\n",
      " [0 1 0 1 0 1 0 1]\n",
      " [1 0 1 0 1 0 1 0]\n",
      " [0 1 0 1 0 1 0 1]\n",
      " [1 0 1 0 1 0 1 0]]\n"
     ]
    }
   ],
   "source": [
    "c = np.zeros((8,8),dtype=int)\n",
    "\n",
    "c[1::2,::2] = 1\n",
    "\n",
    "c[::2,1::2] = 1\n",
    "\n",
    "print(c)"
   ]
  },
  {
   "cell_type": "markdown",
   "metadata": {},
   "source": [
    "# 4. Normalize a 5x5 random matrix"
   ]
  },
  {
   "cell_type": "code",
   "execution_count": 4,
   "metadata": {},
   "outputs": [
    {
     "name": "stdout",
     "output_type": "stream",
     "text": [
      "[[0.06692204 0.73902463 0.63728856]\n",
      " [0.49525233 0.91108351 0.53373122]\n",
      " [0.29812315 0.23271616 0.87210975]]\n",
      "After normalization:\n"
     ]
    },
    {
     "data": {
      "text/plain": [
       "array([[0.        , 0.79617777, 0.67566046],\n",
       "       [0.50740327, 1.        , 0.55298566],\n",
       "       [0.27388257, 0.19640096, 0.9538314 ]])"
      ]
     },
     "execution_count": 4,
     "metadata": {},
     "output_type": "execute_result"
    }
   ],
   "source": [
    "arr = np.random.random((3,3))\n",
    "print(arr)\n",
    "arrmax, arrmin = arr.max(), arr.min()\n",
    "narr = (arr - arrmin)/(arrmax - arrmin)\n",
    "print(\"After normalization:\")\n",
    "narr"
   ]
  },
  {
   "cell_type": "markdown",
   "metadata": {},
   "source": [
    "# 5.  How to find common values between two arrays?"
   ]
  },
  {
   "cell_type": "code",
   "execution_count": 5,
   "metadata": {},
   "outputs": [
    {
     "name": "stdout",
     "output_type": "stream",
     "text": [
      "Array1:  [ 0 10 20 40 60]\n",
      "Array2:  [10, 30, 40]\n",
      "Common values between two arrays:\n",
      "[10 40]\n"
     ]
    }
   ],
   "source": [
    "\n",
    "a1 = np.array([0, 10, 20, 40, 60])\n",
    "print(\"Array1: \",a1)\n",
    "a2 = [10, 30, 40]\n",
    "print(\"Array2: \",a2)\n",
    "print(\"Common values between two arrays:\")\n",
    "print(np.intersect1d(a1, a2))"
   ]
  },
  {
   "cell_type": "markdown",
   "metadata": {},
   "source": [
    "# 6.How to get the dates of yesterday, today and tomorrow?"
   ]
  },
  {
   "cell_type": "code",
   "execution_count": 6,
   "metadata": {},
   "outputs": [
    {
     "name": "stdout",
     "output_type": "stream",
     "text": [
      "Yesterday:  2020-07-27\n",
      "Today:  2020-07-28\n",
      "Tomorrow:  2020-07-29\n"
     ]
    }
   ],
   "source": [
    "yesterday = np.datetime64('today', 'D') - np.timedelta64(1, 'D')\n",
    "print(\"Yesterday: \",yesterday)\n",
    "today     = np.datetime64('today', 'D')\n",
    "print(\"Today: \",today)\n",
    "tomorrow  = np.datetime64('today', 'D') + np.timedelta64(1, 'D')\n",
    "print(\"Tomorrow: \",tomorrow)"
   ]
  },
  {
   "cell_type": "markdown",
   "metadata": {},
   "source": [
    "# 7. Consider two random array A and B, check if they are equal"
   ]
  },
  {
   "cell_type": "code",
   "execution_count": 7,
   "metadata": {},
   "outputs": [
    {
     "name": "stdout",
     "output_type": "stream",
     "text": [
      "First array:\n",
      "[1 1 0 1 0 1]\n",
      "Second array:\n",
      "[0 1 1 1 0 0]\n",
      "Test above two arrays are equal or not!\n",
      "False\n"
     ]
    }
   ],
   "source": [
    "x = np.random.randint(0,2,6)\n",
    "print(\"First array:\")\n",
    "print(x)\n",
    "y = np.random.randint(0,2,6)\n",
    "print(\"Second array:\")\n",
    "print(y)\n",
    "print(\"Test above two arrays are equal or not!\")\n",
    "if len(x) == len(y):\n",
    "    i=0\n",
    "    c=0\n",
    "    while i<len(x):\n",
    "        if x[i]==y[i]:\n",
    "            c=c+1\n",
    "            \n",
    "        else:\n",
    "            print(\"False\")\n",
    "            break\n",
    "    if c == len(x):\n",
    "        print(\"True\")\n",
    "else:\n",
    "    print(\"False\")\n",
    "        \n",
    "        "
   ]
  },
  {
   "cell_type": "markdown",
   "metadata": {},
   "source": [
    "# 8.Create random vector of size 10 and replace the maximum value by 0 "
   ]
  },
  {
   "cell_type": "code",
   "execution_count": 8,
   "metadata": {},
   "outputs": [
    {
     "name": "stdout",
     "output_type": "stream",
     "text": [
      "Initial array:\n",
      "[0.50573877 0.80401322 0.07652003 0.25935607 0.41030992 0.79337159\n",
      " 0.70703251 0.04697083 0.30737416 0.73340754]\n",
      "Maximum value replaced by 0:\n",
      "[0.50573877 0.         0.07652003 0.25935607 0.41030992 0.79337159\n",
      " 0.70703251 0.04697083 0.30737416 0.73340754]\n"
     ]
    }
   ],
   "source": [
    "x = np.random.random(10)\n",
    "print(\"Initial array:\")\n",
    "print(x)\n",
    "x[x.argmax()] = 0\n",
    "print(\"Maximum value replaced by 0:\")\n",
    "print(x)"
   ]
  },
  {
   "cell_type": "markdown",
   "metadata": {},
   "source": [
    "# 9. How to print all the values of an array?"
   ]
  },
  {
   "cell_type": "code",
   "execution_count": 9,
   "metadata": {},
   "outputs": [
    {
     "name": "stdout",
     "output_type": "stream",
     "text": [
      "[[0. 0. 0. 0.]\n",
      " [0. 0. 0. 0.]\n",
      " [0. 0. 0. 0.]\n",
      " [0. 0. 0. 0.]]\n"
     ]
    }
   ],
   "source": [
    "n=np.zeros((4,4))\n",
    "print(n)"
   ]
  },
  {
   "cell_type": "markdown",
   "metadata": {},
   "source": [
    "# 10.Subtract the mean of each row of a matrix"
   ]
  },
  {
   "cell_type": "code",
   "execution_count": 10,
   "metadata": {},
   "outputs": [
    {
     "name": "stdout",
     "output_type": "stream",
     "text": [
      "Original matrix:\n",
      "\n",
      "[[0.00396594 0.09092719 0.52265615 0.78164866 0.3451848 ]\n",
      " [0.95919494 0.74113109 0.94353792 0.76521122 0.17701831]\n",
      " [0.22297541 0.66736149 0.42833318 0.44391617 0.29391417]\n",
      " [0.42290447 0.45234226 0.42480362 0.63652219 0.28886866]\n",
      " [0.08236933 0.61797118 0.4077609  0.41680501 0.48178022]]\n",
      "\n",
      "Subtract the mean of each row of the said matrix:\n",
      "\n",
      "[[-0.3449106  -0.25794936  0.1737796   0.43277211 -0.00369175]\n",
      " [ 0.24197624  0.0239124   0.22631922  0.04799252 -0.54020038]\n",
      " [-0.18832467  0.25606141  0.01703309  0.03261609 -0.11738592]\n",
      " [-0.02218377  0.00725402 -0.02028462  0.19143396 -0.15621958]\n",
      " [-0.318968    0.21663385  0.00642357  0.01546768  0.08044289]]\n"
     ]
    }
   ],
   "source": [
    "print(\"Original matrix:\\n\")\n",
    "X = np.random.rand(5, 5)\n",
    "print(X)\n",
    "print(\"\\nSubtract the mean of each row of the said matrix:\\n\")\n",
    "Y = X - X.mean(axis=1, keepdims=True)\n",
    "print(Y)"
   ]
  },
  {
   "cell_type": "markdown",
   "metadata": {},
   "source": [
    "# 11.Consider a given vector, how to add 1 to each element indexed by a second vector (be careful with repeated indices)? "
   ]
  },
  {
   "cell_type": "code",
   "execution_count": 11,
   "metadata": {},
   "outputs": [
    {
     "name": "stdout",
     "output_type": "stream",
     "text": [
      "Before adding one at required index \n",
      "[ 0  1  2  3  4  5  6  7  8  9 10 11]\n",
      "After adding one at required index \n",
      "[ 0  2  3  3  5  6  7  7  9  9 10 11]\n"
     ]
    }
   ],
   "source": [
    "a=np.arange(0,12)\n",
    "b=np.array([1,1,2,2,8,6,5,5,4,4])\n",
    "l=[]\n",
    "print(\"Before adding one at required index \")\n",
    "print(a)\n",
    "for i in b:\n",
    "    if i not in l:\n",
    "        l.append(i)\n",
    "        a[i]=a[i]+1\n",
    "print(\"After adding one at required index \")\n",
    "print(a)\n"
   ]
  },
  {
   "cell_type": "markdown",
   "metadata": {},
   "source": [
    "# 12.How to get the diagonal of a dot product?"
   ]
  },
  {
   "cell_type": "code",
   "execution_count": 12,
   "metadata": {},
   "outputs": [
    {
     "name": "stdout",
     "output_type": "stream",
     "text": [
      "Dot product of a and b\n",
      "[[37 40]\n",
      " [85 92]]\n",
      "Diagonal elements of dot product\n"
     ]
    },
    {
     "data": {
      "text/plain": [
       "array([37, 92])"
      ]
     },
     "execution_count": 12,
     "metadata": {},
     "output_type": "execute_result"
    }
   ],
   "source": [
    "a = np.array([[1,2],[3,4]]) \n",
    "b = np.array([[11,12],[13,14]]) \n",
    "res=np.dot(a,b)\n",
    "print(\"Dot product of a and b\")\n",
    "print(res)\n",
    "print(\"Diagonal elements of dot product\")\n",
    "np.diag(res)"
   ]
  },
  {
   "cell_type": "markdown",
   "metadata": {},
   "source": [
    "# 13.How to find the most frequent value in an array?"
   ]
  },
  {
   "cell_type": "code",
   "execution_count": 13,
   "metadata": {},
   "outputs": [
    {
     "name": "stdout",
     "output_type": "stream",
     "text": [
      "Most frequent number 6\n"
     ]
    }
   ],
   "source": [
    "a=np.array([1,1,2,6,2,4,6,4,5,6])\n",
    "b=np.sort(a)\n",
    "count=1\n",
    "maxcount=0\n",
    "l=[]\n",
    "for i in b:\n",
    "    if i in l:\n",
    "        count=count+1\n",
    "    l.append(i)\n",
    "    if count > maxcount:\n",
    "        maxcount=count\n",
    "        value=i\n",
    "print(\"Most frequent number\",value)\n",
    "\n",
    "    "
   ]
  },
  {
   "cell_type": "markdown",
   "metadata": {},
   "source": [
    "# 14.How to get the n largest values of an array"
   ]
  },
  {
   "cell_type": "code",
   "execution_count": 14,
   "metadata": {},
   "outputs": [
    {
     "name": "stdout",
     "output_type": "stream",
     "text": [
      "Enter n value2\n",
      "2  Largest values in the array\n"
     ]
    },
    {
     "data": {
      "text/plain": [
       "[5, 6]"
      ]
     },
     "execution_count": 14,
     "metadata": {},
     "output_type": "execute_result"
    }
   ],
   "source": [
    "a=np.array([1,1,2,6,2,4,6,4,5,6])\n",
    "b=np.sort(a)\n",
    "n=int(input(\"Enter n value\"))\n",
    "l=[]\n",
    "for i in b:\n",
    "    if i not in l:\n",
    "        l.append(i)\n",
    "k=len(l)-n\n",
    "print(n,\" Largest values in the array\")\n",
    "l[k:]"
   ]
  },
  {
   "cell_type": "markdown",
   "metadata": {},
   "source": [
    "# 15.How to create a record array from a regular array?"
   ]
  },
  {
   "cell_type": "code",
   "execution_count": 15,
   "metadata": {},
   "outputs": [
    {
     "name": "stdout",
     "output_type": "stream",
     "text": [
      "(1, 'Red', 12.2)\n",
      "(2, 'Green', 15.)\n",
      "(3, 'White', 20.)\n"
     ]
    }
   ],
   "source": [
    "a1=np.array([1,2,3,4])\n",
    "a2=np.array(['Red','Green','White','Orange'])\n",
    "a3=np.array([12.20,15,20,40])\n",
    "result= np.core.records.fromarrays([a1, a2, a3],names='a,b,c')\n",
    "print(result[0])\n",
    "print(result[1])\n",
    "print(result[2])"
   ]
  },
  {
   "cell_type": "code",
   "execution_count": null,
   "metadata": {},
   "outputs": [],
   "source": []
  }
 ],
 "metadata": {
  "kernelspec": {
   "display_name": "Python 3",
   "language": "python",
   "name": "python3"
  },
  "language_info": {
   "codemirror_mode": {
    "name": "ipython",
    "version": 3
   },
   "file_extension": ".py",
   "mimetype": "text/x-python",
   "name": "python",
   "nbconvert_exporter": "python",
   "pygments_lexer": "ipython3",
   "version": "3.7.4"
  }
 },
 "nbformat": 4,
 "nbformat_minor": 2
}
