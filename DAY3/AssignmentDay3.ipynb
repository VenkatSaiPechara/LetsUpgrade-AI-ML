{
 "cells": [
  {
   "cell_type": "code",
   "execution_count": null,
   "metadata": {
    "colab": {},
    "colab_type": "code",
    "id": "99C6WP9VtKMc"
   },
   "outputs": [],
   "source": []
  },
  {
   "cell_type": "markdown",
   "metadata": {
    "colab_type": "text",
    "id": "YL_UvyLRtLU6"
   },
   "source": [
    "1.Write a program to subtract two complex numbers in Python.\n"
   ]
  },
  {
   "cell_type": "code",
   "execution_count": 1,
   "metadata": {
    "colab": {
     "base_uri": "https://localhost:8080/",
     "height": 34
    },
    "colab_type": "code",
    "id": "XmSGfSE-tRPu",
    "outputId": "4d413303-d662-4a12-fc9b-f3565fce3079"
   },
   "outputs": [
    {
     "name": "stdout",
     "output_type": "stream",
     "text": [
      "Subtraction of two complex numbers (1+1j)\n"
     ]
    }
   ],
   "source": [
    "a = 3 + 4j\n",
    "b = 2 + 3j\n",
    "print('Subtraction of two complex numbers',(a-b))"
   ]
  },
  {
   "cell_type": "markdown",
   "metadata": {
    "colab_type": "text",
    "id": "C0jyd8Iutp-n"
   },
   "source": [
    "2.Write a program to find the fourth root of a number."
   ]
  },
  {
   "cell_type": "code",
   "execution_count": 3,
   "metadata": {
    "colab": {
     "base_uri": "https://localhost:8080/",
     "height": 34
    },
    "colab_type": "code",
    "id": "PYYTnCTEtxd9",
    "outputId": "0ddd851e-55c6-438f-8fbf-1a2a7d20c018"
   },
   "outputs": [
    {
     "name": "stdout",
     "output_type": "stream",
     "text": [
      "Fourth root of 25 is 2.23606797749979\n"
     ]
    }
   ],
   "source": [
    "a = 25\n",
    "b = a**(1/4.0)\n",
    "print('Fourth root of',a ,'is',b)"
   ]
  },
  {
   "cell_type": "markdown",
   "metadata": {
    "colab_type": "text",
    "id": "LO52fxNYuSsH"
   },
   "source": [
    "3.Write a program to swap two numbers in Python with the help of a temporary variable.\n"
   ]
  },
  {
   "cell_type": "code",
   "execution_count": 5,
   "metadata": {
    "colab": {
     "base_uri": "https://localhost:8080/",
     "height": 51
    },
    "colab_type": "code",
    "id": "Box2slneuWOo",
    "outputId": "b04dd756-0ecc-4f4d-a68f-b063bec9c76e"
   },
   "outputs": [
    {
     "name": "stdout",
     "output_type": "stream",
     "text": [
      "Before swapping a = 5 b = 10\n",
      "After swapping a = 10 b = 5\n"
     ]
    }
   ],
   "source": [
    "a = 5\n",
    "b = 10\n",
    "print('Before swapping a =', a,'b =',b)\n",
    "temp = a\n",
    "a = b\n",
    "b = temp\n",
    "print('After swapping a =', a,'b =',b)\n"
   ]
  },
  {
   "cell_type": "markdown",
   "metadata": {
    "colab_type": "text",
    "id": "ihy28HZLvFNd"
   },
   "source": [
    "4.Write a program to swap two numbers in Python without using a temporary variable."
   ]
  },
  {
   "cell_type": "code",
   "execution_count": 6,
   "metadata": {
    "colab": {
     "base_uri": "https://localhost:8080/",
     "height": 51
    },
    "colab_type": "code",
    "id": "7ZF_zqPPvIj6",
    "outputId": "438ff8bc-e1b7-4c11-b4f7-33416818572f"
   },
   "outputs": [
    {
     "name": "stdout",
     "output_type": "stream",
     "text": [
      "Before swapping a = 5 b = 10\n",
      "After swapping a = 10 b = 5\n"
     ]
    }
   ],
   "source": [
    "a = 5\n",
    "b = 10\n",
    "print('Before swapping a =', a,'b =',b)\n",
    "a = a + b\n",
    "b = a - b\n",
    "a = a - b\n",
    "print('After swapping a =', a,'b =',b)"
   ]
  },
  {
   "cell_type": "markdown",
   "metadata": {
    "colab_type": "text",
    "id": "015oNM3cvckF"
   },
   "source": [
    "5.Write a program to convert fahrenheit to kelvin and celsius both.\n"
   ]
  },
  {
   "cell_type": "code",
   "execution_count": 8,
   "metadata": {
    "colab": {
     "base_uri": "https://localhost:8080/",
     "height": 34
    },
    "colab_type": "code",
    "id": "I0H2VTGxwC7N",
    "outputId": "142c5fe2-3ebe-4cd4-c807-76dd6c8b5e14"
   },
   "outputs": [
    {
     "name": "stdout",
     "output_type": "stream",
     "text": [
      "Kelvin= 309.6666666666667 Celsius= 36.666666666666664\n"
     ]
    }
   ],
   "source": [
    "Fahrenheit = 98\n",
    "Celsius = (Fahrenheit - 32)*5/9\n",
    "Kelvin = Celsius + 273\n",
    "print('Kelvin=',Kelvin,'Celsius=',Celsius)"
   ]
  },
  {
   "cell_type": "markdown",
   "metadata": {
    "colab_type": "text",
    "id": "9rxGWtirwMxu"
   },
   "source": [
    "6.Write a program to demonstrate all the available data types in Python. Hint: Use type() function."
   ]
  },
  {
   "cell_type": "code",
   "execution_count": 16,
   "metadata": {
    "colab": {
     "base_uri": "https://localhost:8080/",
     "height": 153
    },
    "colab_type": "code",
    "id": "3BZS1Tt3wQ4M",
    "outputId": "d5701188-a861-4aeb-c5dd-231b96598a5d"
   },
   "outputs": [
    {
     "name": "stdout",
     "output_type": "stream",
     "text": [
      "a is  <class 'int'> datatype\n",
      "b is  <class 'float'> datatype\n",
      "c is  <class 'str'> datatype\n",
      "d is  <class 'bool'> datatype\n",
      "e is  <class 'tuple'> datatype\n",
      "f is  <class 'list'> datatype\n",
      "g is  <class 'dict'> datatype\n",
      "h is  <class 'set'> datatype\n"
     ]
    }
   ],
   "source": [
    "a = 5\n",
    "b = 6.0\n",
    "c = 'Hi'\n",
    "d = True\n",
    "e = (2,3,4)\n",
    "f = [2,3,4]\n",
    "g = {'a':5,'b':6}\n",
    "h = {6,5,'a'}\n",
    "print('a is ',type(a),'datatype')\n",
    "print('b is ',type(b),'datatype')\n",
    "print('c is ',type(c),'datatype')\n",
    "print('d is ',type(d),'datatype')\n",
    "print('e is ',type(e),'datatype')\n",
    "print('f is ',type(f),'datatype')\n",
    "print('g is ',type(g),'datatype')\n",
    "print('h is ',type(h),'datatype')\n",
    "#Here are the examples of some available data types"
   ]
  },
  {
   "cell_type": "markdown",
   "metadata": {
    "colab_type": "text",
    "id": "derGjSk-yMiW"
   },
   "source": [
    "7.Create a Markdown cell in jupyter and list the steps discussed in the session by Dr. Darshan\n",
    "Ingle sir to create Github profile and upload Githubs Assignment link."
   ]
  },
  {
   "cell_type": "markdown",
   "metadata": {},
   "source": [
    "# Steps to create Github profile \n",
    "1. Signup to create a Github profile if you are new to Github else sign through your credentials\n",
    "2. Follow the path Profile -> Your resipositories -> Click on 'Create Resipository'-> Name the resipository as 'LetsUpgrade-AI-ML' -> Description as 'Assignments'-> Make it as 'Public'-> click on 'Create Resipository'\n",
    "# Steps to upload Github Assignment Link\n",
    "1. Upload the files/solution in the repo in day wise manner.\n",
    "2. Copy the URL of the Folder of that day and paste in the Assignment Submission Form (Google Form)\n",
    "3. Make sure you are filling correct details in the Assignment Submission Form."
   ]
  }
 ],
 "metadata": {
  "colab": {
   "name": "Untitled1.ipynb",
   "provenance": []
  },
  "kernelspec": {
   "display_name": "Python 3",
   "language": "python",
   "name": "python3"
  },
  "language_info": {
   "codemirror_mode": {
    "name": "ipython",
    "version": 3
   },
   "file_extension": ".py",
   "mimetype": "text/x-python",
   "name": "python",
   "nbconvert_exporter": "python",
   "pygments_lexer": "ipython3",
   "version": "3.7.4"
  }
 },
 "nbformat": 4,
 "nbformat_minor": 1
}
