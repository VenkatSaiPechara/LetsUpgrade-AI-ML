{
 "cells": [
  {
   "cell_type": "markdown",
   "metadata": {},
   "source": [
    "1.Research on whether addition, subtraction, multiplication, division, floor division and modulo\n",
    "operations be performed on complex numbers. Based on your study, implement a Python\n",
    "program to demonstrate these operations."
   ]
  },
  {
   "cell_type": "code",
   "execution_count": 6,
   "metadata": {},
   "outputs": [
    {
     "name": "stdout",
     "output_type": "stream",
     "text": [
      "Addition of two complex numbers (13+0j)\n",
      "Subtraction of two complex numbers (-1+10j)\n",
      "Multiplication of two complex numbers (67+5j)\n",
      "Division of two complex numbers (0.22972972972972971+0.8783783783783783j)\n"
     ]
    }
   ],
   "source": [
    "a = 6 + 5j\n",
    "b = 7 -5j\n",
    "print('Addition of two complex numbers',a+b)\n",
    "print('Subtraction of two complex numbers',a-b)\n",
    "print('Multiplication of two complex numbers',a*b)\n",
    "print('Division of two complex numbers',a/b)"
   ]
  },
  {
   "cell_type": "markdown",
   "metadata": {},
   "source": [
    "Floor division and modulo cannot be permormed on complex numbers in python"
   ]
  },
  {
   "cell_type": "markdown",
   "metadata": {},
   "source": [
    "2.Research on range() functions and its parameters. Create a markdown cell and write in your own\n",
    "words (no copy-paste from google please) what you understand about it. Implement a small\n",
    "program of your choice on the same\n",
    "\n",
    "range() is function, which helps us to generate numbers with equivalent  distance (called as step) from start to stop user desired numbers.\n",
    "range(start,stop,step)\n",
    "range should have atleast one parameter i.e., stop. start default is 0 and step is 1. "
   ]
  },
  {
   "cell_type": "markdown",
   "metadata": {},
   "source": [
    "3.Consider two numbers. Perform their subtraction and if the result of subtraction is greater than\n",
    "25, print their multiplication result else print their division result.\n"
   ]
  },
  {
   "cell_type": "code",
   "execution_count": 8,
   "metadata": {},
   "outputs": [
    {
     "name": "stdout",
     "output_type": "stream",
     "text": [
      "As difference is greater than 25 multiplication is executed. Multiplication of two numbers is 1875\n"
     ]
    }
   ],
   "source": [
    "a = 75\n",
    "b = 25\n",
    "if a-b > 25:\n",
    "    print('As difference is greater than 25 multiplication is executed. Multiplication of two numbers is',a*b) \n",
    "else:\n",
    "    print('As difference is lesser than 25 Division is executed. Division of two numbers is',a/b)"
   ]
  },
  {
   "cell_type": "markdown",
   "metadata": {},
   "source": [
    "4.Consider a list of 10 elements of integer values. If the number in the list is divisible by 2, print the\n",
    "result as \"square of that number minus 2\".\n"
   ]
  },
  {
   "cell_type": "code",
   "execution_count": 9,
   "metadata": {},
   "outputs": [
    {
     "name": "stdout",
     "output_type": "stream",
     "text": [
      "98\n",
      "2\n",
      "674\n",
      "1022\n",
      "3134\n",
      "2302\n",
      "4622\n"
     ]
    }
   ],
   "source": [
    "l = [10, 2, 15, 26, 32, 57, 29, 56, 48, 68]\n",
    "for i in l:\n",
    "    if i%2==0:\n",
    "        print(i**2 -2)"
   ]
  },
  {
   "cell_type": "markdown",
   "metadata": {},
   "source": [
    "\n",
    "5.Consider a list of 10 elements. Print all the elements in the list which are greater than 7 when that\n",
    "number is divided 2."
   ]
  },
  {
   "cell_type": "code",
   "execution_count": 13,
   "metadata": {},
   "outputs": [
    {
     "name": "stdout",
     "output_type": "stream",
     "text": [
      "20\n",
      "15\n",
      "26\n",
      "30\n",
      "17\n",
      "19\n",
      "68\n"
     ]
    }
   ],
   "source": [
    "l = [10, 20, 15, 26, 30, 17, 19, 11, 8, 68]\n",
    "for i in l:\n",
    "    if i/2 > 7:\n",
    "        print(i)"
   ]
  }
 ],
 "metadata": {
  "kernelspec": {
   "display_name": "Python 3",
   "language": "python",
   "name": "python3"
  },
  "language_info": {
   "codemirror_mode": {
    "name": "ipython",
    "version": 3
   },
   "file_extension": ".py",
   "mimetype": "text/x-python",
   "name": "python",
   "nbconvert_exporter": "python",
   "pygments_lexer": "ipython3",
   "version": "3.7.4"
  }
 },
 "nbformat": 4,
 "nbformat_minor": 2
}
