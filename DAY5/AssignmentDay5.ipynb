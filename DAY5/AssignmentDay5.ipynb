{
 "cells": [
  {
   "cell_type": "markdown",
   "metadata": {},
   "source": [
    "1.Write a Python program to find the first 20 non-even prime natural numbers.\n"
   ]
  },
  {
   "cell_type": "code",
   "execution_count": 92,
   "metadata": {},
   "outputs": [
    {
     "name": "stdout",
     "output_type": "stream",
     "text": [
      "Enter the value for n 20\n",
      "Program to find the first 20 non-even prime natural numbers\n",
      "3\n",
      "5\n",
      "7\n",
      "11\n",
      "13\n",
      "17\n",
      "19\n",
      "23\n",
      "29\n",
      "31\n",
      "37\n",
      "41\n",
      "43\n",
      "47\n",
      "53\n",
      "59\n",
      "61\n",
      "67\n",
      "71\n",
      "73\n"
     ]
    }
   ],
   "source": [
    "n=int(input('Enter the value for n '))\n",
    "print(\"Program to find the first\", n,\"non-even prime natural numbers\")\n",
    "p = 0 \n",
    "i = 3\n",
    "while p<n:\n",
    "    j = 3\n",
    "    c = 0\n",
    "    while j<i/2:\n",
    "        if( i % j ==0):\n",
    "                 c=1\n",
    "                 break\n",
    "        j=j+2\n",
    "    if(c==0):\n",
    "        print(i)\n",
    "        p=p+1\n",
    "    i=i+2\n",
    "       \n",
    "        \n",
    "        "
   ]
  },
  {
   "cell_type": "markdown",
   "metadata": {},
   "source": [
    "2.Write a Python program to implement 15 functions of string"
   ]
  },
  {
   "cell_type": "code",
   "execution_count": 89,
   "metadata": {},
   "outputs": [
    {
     "name": "stdout",
     "output_type": "stream",
     "text": [
      "Length of string: 12\n",
      "Conversion to lowercase : data science\n",
      "Conversion to upperrcase : DATA SCIENCE\n",
      "Conversion to swapcase : dATA sCIENCE\n",
      "Capitalise  : Data science\n",
      "center function  : aaahelloaaa\n",
      "Count  : 1\n",
      "startswith function  : True\n",
      "Endswith function  : True\n",
      "find function  : 2\n",
      "rfind function  : 3\n",
      "Index function  : 6\n",
      "rIndex function  : 10\n",
      "islower function  : True\n",
      "isupper function  : False\n",
      "istitle function  : True\n",
      "max function  : t\n",
      "min function  :  \n"
     ]
    }
   ],
   "source": [
    "a = \"Data Science\"\n",
    "b = \"hello\"\n",
    "print(\"Length of string:\",len(a))\n",
    "print(\"Conversion to lowercase :\",a.lower())\n",
    "print(\"Conversion to upperrcase :\",a.upper())\n",
    "print(\"Conversion to swapcase :\",a.swapcase())\n",
    "print(\"Capitalise  :\",a.capitalize())\n",
    "print(\"center function  :\",b.center(11,\"a\"))\n",
    "print(\"Count  :\",a.count('at',1,9))\n",
    "print(\"startswith function  :\",a.startswith('Data',0,len(a)))\n",
    "print(\"Endswith function  :\",a.endswith('ce',1,len(a)))\n",
    "print(\"find function  :\",a.find('t',1,len(a)))\n",
    "print(\"rfind function  :\",a.rfind('a',1,len(a)))\n",
    "print(\"Index function  :\",a.index('c',1,len(a)))\n",
    "print(\"rIndex function  :\",a.rindex('c',1,len(a)))\n",
    "print(\"islower function  :\",b.islower())\n",
    "print(\"isupper function  :\",a.isupper())\n",
    "print(\"istitle function  :\",a.istitle())\n",
    "print(\"max function  :\",max(a))\n",
    "print(\"min function  :\",min(a))"
   ]
  },
  {
   "cell_type": "markdown",
   "metadata": {},
   "source": [
    "3.Write a Python program to check if the given string is a Palindrome or Anagram or None of them.\n",
    "Display the message accordingly to the user.\n"
   ]
  },
  {
   "cell_type": "code",
   "execution_count": 32,
   "metadata": {},
   "outputs": [
    {
     "name": "stdout",
     "output_type": "stream",
     "text": [
      "Palindrome\n"
     ]
    }
   ],
   "source": [
    "def isPalindrome(str): \n",
    "  \n",
    "    \n",
    "    for i in range(0, int(len(str)/2)):  \n",
    "        if str[i] != str[len(str)-i-1]: \n",
    "            return False\n",
    "    return True\n",
    "  \n",
    " \n",
    "s = \"Malayalam\"\n",
    "s=s.lower()\n",
    "ans = isPalindrome(s) \n",
    "  \n",
    "if (ans): \n",
    "    print(\"Palindrome\") \n",
    "else: \n",
    "    print(\"Not a Palindrome\")"
   ]
  },
  {
   "cell_type": "code",
   "execution_count": 37,
   "metadata": {},
   "outputs": [
    {
     "name": "stdout",
     "output_type": "stream",
     "text": [
      "The two strings are anagram of each other\n"
     ]
    }
   ],
   "source": [
    "def areAnagram(str1, str2):  \n",
    "    n1 = len(str1)  \n",
    "    n2 = len(str2)  \n",
    "    if n1 != n2:  \n",
    "        return 0 \n",
    "    str1 = sorted(str1) \n",
    "    str2 = sorted(str2) \n",
    " \n",
    "    for i in range(0, n1):  \n",
    "        if str1[i] != str2[i]:  \n",
    "            return 0\n",
    "  \n",
    "    return 1\n",
    "  \n",
    "  \n",
    " \n",
    "str1 = \"testings\"\n",
    "str2 = \"settings\"\n",
    "if areAnagram(str1, str2):  \n",
    "    print (\"The two strings are anagram of each other\") \n",
    "else:  \n",
    "    print (\"The two strings are not anagram of each other\") "
   ]
  },
  {
   "cell_type": "markdown",
   "metadata": {},
   "source": [
    "4.Write a Python's user defined function that removes all the additional characters from the string\n",
    "and converts it finally to lower case using built-in lower(). eg: If the string is \"Dr. Darshan Ingle\n",
    "@AI-ML Trainer\", then the output be \"drdarshaningleaimltrainer\"."
   ]
  },
  {
   "cell_type": "code",
   "execution_count": 42,
   "metadata": {},
   "outputs": [
    {
     "name": "stdout",
     "output_type": "stream",
     "text": [
      "drdarshaningleaimltrainer\n"
     ]
    }
   ],
   "source": [
    "def removalofAddchar(a):\n",
    "    s=\"\"\n",
    "    for i in range(0,len(a)):\n",
    "        if a[i].isalnum():\n",
    "            s=s+a[i].lower()\n",
    "    print(s)\n",
    "            \n",
    "\n",
    "\n",
    "a = \"Dr. Darshan Ingle @AI-ML Trainer\"\n",
    "removalofAddchar(a)"
   ]
  }
 ],
 "metadata": {
  "kernelspec": {
   "display_name": "Python 3",
   "language": "python",
   "name": "python3"
  },
  "language_info": {
   "codemirror_mode": {
    "name": "ipython",
    "version": 3
   },
   "file_extension": ".py",
   "mimetype": "text/x-python",
   "name": "python",
   "nbconvert_exporter": "python",
   "pygments_lexer": "ipython3",
   "version": "3.7.4"
  }
 },
 "nbformat": 4,
 "nbformat_minor": 2
}
