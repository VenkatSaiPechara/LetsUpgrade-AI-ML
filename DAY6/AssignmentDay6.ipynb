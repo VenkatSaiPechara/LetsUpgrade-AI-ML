{
 "cells": [
  {
   "cell_type": "markdown",
   "metadata": {},
   "source": [
    "Question 1:\n",
    "Assuming that we have some email addresses in the \"username@companyname.com\" format, please write program\n",
    "to print the company name of a given email address. Both user names and company names are composed of letters\n",
    "only.\n"
   ]
  },
  {
   "cell_type": "code",
   "execution_count": 3,
   "metadata": {},
   "outputs": [
    {
     "name": "stdout",
     "output_type": "stream",
     "text": [
      "Enter email adddressjohn@google.com\n",
      "google\n"
     ]
    }
   ],
   "source": [
    "email=input('Enter email adddress')\n",
    "i=email.find('@')\n",
    "j=email.find('.',i)\n",
    "print(email[i+1:j])"
   ]
  },
  {
   "cell_type": "markdown",
   "metadata": {},
   "source": [
    "Question 2:\n",
    "Write a program that accepts a comma-separated sequence of words as input and prints the words in a comma\n",
    "separated sequence after sorting them alphabetically.\n"
   ]
  },
  {
   "cell_type": "code",
   "execution_count": 6,
   "metadata": {},
   "outputs": [
    {
     "name": "stdout",
     "output_type": "stream",
     "text": [
      "Input comma separated sequence of words : without,hello,bag,world\n",
      "bag,hello,without,world\n"
     ]
    }
   ],
   "source": [
    "items = input(\"Input comma separated sequence of words : \")\n",
    "words = [word for word in items.split(\",\")]\n",
    "print(\",\".join(sorted(list(words))))\n"
   ]
  },
  {
   "cell_type": "markdown",
   "metadata": {},
   "source": [
    "Question 3:\n",
    "Create your own Jupyter Notebook for Sets.\n",
    "Reference link: https://www.w3schools.com/python/python_sets.asp"
   ]
  },
  {
   "cell_type": "code",
   "execution_count": 18,
   "metadata": {},
   "outputs": [
    {
     "name": "stdout",
     "output_type": "stream",
     "text": [
      "Duplicates are not allowed\n",
      " {1, 2, 3, 5, 6, 7}\n",
      "Union will return a new set\n",
      " {1, 2, 3, 5, 6, 7, 'abc', 'def', 'ghi'}\n",
      "Update will return a given set\n",
      " {1, 2, 3, 5, 6, 7, 'abc', 'def', 'ghi'}\n",
      "pop will return deleted element from set\n",
      " {2, 3, 5, 6, 7, 'abc', 'def', 'ghi'}\n",
      "Remove function will delete the element from set if element does not exists it will error whereas discard will not throw error {1, 2, 3, 5, 6, 7, 'def', 'ghi'} {2, 3, 5, 6, 7, 'abc', 'def', 'ghi'}\n",
      "Add function will append values  {2, 3, 5, 6, 7, 'abc', 'def', 'ghi'}\n"
     ]
    },
    {
     "ename": "NameError",
     "evalue": "name 'b' is not defined",
     "output_type": "error",
     "traceback": [
      "\u001b[1;31m---------------------------------------------------------------------------\u001b[0m",
      "\u001b[1;31mNameError\u001b[0m                                 Traceback (most recent call last)",
      "\u001b[1;32m<ipython-input-18-412812aaebb0>\u001b[0m in \u001b[0;36m<module>\u001b[1;34m\u001b[0m\n\u001b[0;32m     14\u001b[0m \u001b[0mprint\u001b[0m\u001b[1;33m(\u001b[0m\u001b[1;34m\"Add function will append values \"\u001b[0m\u001b[1;33m,\u001b[0m\u001b[0ma\u001b[0m\u001b[1;33m)\u001b[0m\u001b[1;33m\u001b[0m\u001b[1;33m\u001b[0m\u001b[0m\n\u001b[0;32m     15\u001b[0m \u001b[1;32mdel\u001b[0m \u001b[0mb\u001b[0m\u001b[1;33m\u001b[0m\u001b[1;33m\u001b[0m\u001b[0m\n\u001b[1;32m---> 16\u001b[1;33m \u001b[0mprint\u001b[0m\u001b[1;33m(\u001b[0m\u001b[1;34m\"Del will complete set \"\u001b[0m\u001b[1;33m,\u001b[0m\u001b[0mb\u001b[0m\u001b[1;33m)\u001b[0m\u001b[1;33m\u001b[0m\u001b[1;33m\u001b[0m\u001b[0m\n\u001b[0m",
      "\u001b[1;31mNameError\u001b[0m: name 'b' is not defined"
     ]
    }
   ],
   "source": [
    "a = {1,2,2,3,5,6,7,7}\n",
    "print(\"Duplicates are not allowed\\n\",a)\n",
    "b = {\"abc\",\"def\",\"ghi\"}\n",
    "c=a.union(b)\n",
    "print(\"Union will return a new set\\n\",c)\n",
    "a.update(b)\n",
    "print(\"Update will return a given set\\n\",a)\n",
    "a.pop()\n",
    "print(\"pop will return deleted element from set\\n\",a)\n",
    "c.remove(\"abc\")\n",
    "c.discard(\"abc\")\n",
    "print(\"Remove function will delete the element from set if element does not exists it will error whereas discard will not throw error\",c,a)\n",
    "a.add(\"abc\")\n",
    "print(\"Add function will append values \",a)\n",
    "del b\n",
    "print(\"Del will complete set \",b)"
   ]
  },
  {
   "cell_type": "markdown",
   "metadata": {},
   "source": [
    "Question 4:\n",
    "Given a list of n-1 numbers ranging from 1 to n, your task is to find the missing number. There are no duplicates.\n"
   ]
  },
  {
   "cell_type": "code",
   "execution_count": 9,
   "metadata": {},
   "outputs": [
    {
     "name": "stdout",
     "output_type": "stream",
     "text": [
      "Enter range6\n",
      "Enter values in between 1 and  6\n",
      "1\n",
      "2\n",
      "5\n",
      "3\n",
      "6\n",
      "missing value is: 4\n"
     ]
    }
   ],
   "source": [
    "import functools\n",
    "from functools import reduce\n",
    "n =int(input(\"Enter range\"))\n",
    "l=[]\n",
    "print(\"Enter values in between 1 and \", n)\n",
    "for i in range(1,n):\n",
    "    if(i<=n):\n",
    "        a=int(input())\n",
    "        l.append(a)\n",
    "print(\"missing value is:\",int(n*(n+1)/2)-reduce(lambda a,b:a+b,l))"
   ]
  },
  {
   "cell_type": "markdown",
   "metadata": {},
   "source": [
    "Question 5:\n",
    "With a given list L, write a program to print this list L after removing all duplicate values with original order reserved"
   ]
  },
  {
   "cell_type": "code",
   "execution_count": 12,
   "metadata": {},
   "outputs": [
    {
     "name": "stdout",
     "output_type": "stream",
     "text": [
      "After removing all duplicate values with original order reserved\n",
      " [12, 125, 88, 55, 24, 78, 66]\n"
     ]
    }
   ],
   "source": [
    "l = [12,125,88,12,55,24,88,78,66,55]\n",
    "D=[]\n",
    "for i in l:\n",
    "    if i not in D:\n",
    "        D.append(i)\n",
    "print(\"After removing all duplicate values with original order reserved\\n\",D)"
   ]
  }
 ],
 "metadata": {
  "kernelspec": {
   "display_name": "Python 3",
   "language": "python",
   "name": "python3"
  },
  "language_info": {
   "codemirror_mode": {
    "name": "ipython",
    "version": 3
   },
   "file_extension": ".py",
   "mimetype": "text/x-python",
   "name": "python",
   "nbconvert_exporter": "python",
   "pygments_lexer": "ipython3",
   "version": "3.7.4"
  }
 },
 "nbformat": 4,
 "nbformat_minor": 2
}
